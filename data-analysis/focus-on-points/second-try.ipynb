{
 "cells": [
  {
   "cell_type": "markdown",
   "metadata": {},
   "source": [
    "Ce notebook contient l'analyse faite sur l'entièreté des 150 données. L'analyse a ici pris en compte les points obtenus par question."
   ]
  },
  {
   "cell_type": "markdown",
   "metadata": {},
   "source": [
    "# Set Up"
   ]
  },
  {
   "cell_type": "markdown",
   "metadata": {},
   "source": [
    "## Importation des différentes librairies"
   ]
  },
  {
   "cell_type": "markdown",
   "metadata": {},
   "source": [
    "**Panda.** Librairie permettant de manipuler des tableaux de données avec des étiquettes de variables (colonnes, i.e. pour nous les questions) et d'individus (lignes, i.e. les formulaires ayant été rempli).\n",
    "\n",
    "**Numpy.** Librairie permettant de faire des calculs scientifique fournissant des fonctions ainsi que des structures de données très performantes de calcul.\n",
    "\n",
    "**Matplotlib.** Librairie permettant de créer des visuels statiques, animés et interactifs\n",
    "\n",
    "**Seaborn.** Librairie permettant de visualiser des données, et fournit des interfaces de haut niveau pour dessiner des graphiques statistiques attrayants et informatifs."
   ]
  },
  {
   "cell_type": "code",
   "execution_count": 1,
   "metadata": {},
   "outputs": [],
   "source": [
    "import pandas\n",
    "import numpy\n",
    "import matplotlib\n",
    "import seaborn\n",
    "from sklearn.model_selection import train_test_split, GridSearchCV\n",
    "from sklearn.naive_bayes import GaussianNB\n",
    "from sklearn import metrics \n",
    "from sklearn.svm import LinearSVC\n",
    "from sklearn.multiclass import OneVsRestClassifier, OutputCodeClassifier\n",
    "from sklearn.linear_model import LogisticRegression\n",
    "from sklearn.dummy import DummyClassifier\n",
    "from sklearn.preprocessing import StandardScaler\n",
    "from sklearn.metrics import accuracy_score\n",
    "import warnings"
   ]
  },
  {
   "cell_type": "markdown",
   "metadata": {},
   "source": [
    "## Importation du fichier excel et manipulation"
   ]
  },
  {
   "cell_type": "markdown",
   "metadata": {},
   "source": [
    "Commençons par importer le fichier excel comportant les questions avec réponses selon l'entreprise. Le tableau contenu dans ce fichier sera notre data frame. \n",
    "\n",
    "**Définition.** *Data frame.* Un Data frame est une structure de données bidimensionnelle, i.e. les données sont alignées de façon tabulaire en lignes\n",
    " et en colonnes."
   ]
  },
  {
   "cell_type": "code",
   "execution_count": 2,
   "metadata": {},
   "outputs": [],
   "source": [
    "data_frame = pandas.read_excel('../excel/question.xlsx', sheet_name = 'risk')"
   ]
  },
  {
   "cell_type": "markdown",
   "metadata": {},
   "source": [
    "Nous commençons par retirer les données générées aléatoirement."
   ]
  },
  {
   "cell_type": "code",
   "execution_count": 3,
   "metadata": {},
   "outputs": [],
   "source": [
    "data_frame = data_frame.head(63)"
   ]
  },
  {
   "cell_type": "markdown",
   "metadata": {},
   "source": [
    "Vérifions que l'on a bien 63 lignes, i.e. 62 entreprises, et 18 colonnes, i.e. 16 questions, le total et le nom de l'entreprise."
   ]
  },
  {
   "cell_type": "code",
   "execution_count": 4,
   "metadata": {},
   "outputs": [
    {
     "data": {
      "text/plain": [
       "(63, 18)"
      ]
     },
     "execution_count": 4,
     "metadata": {},
     "output_type": "execute_result"
    }
   ],
   "source": [
    "data_frame.shape"
   ]
  },
  {
   "cell_type": "markdown",
   "metadata": {},
   "source": [
    "Retirons les colonnes ne nous intéressant pas, ou contenant des chaines de caractères. Nous ne travaillerons en  effet qu'avec des valeurs numériques."
   ]
  },
  {
   "cell_type": "code",
   "execution_count": 5,
   "metadata": {},
   "outputs": [],
   "source": [
    "data_frame = data_frame.drop(columns = [\"Unnamed: 0\"])"
   ]
  },
  {
   "cell_type": "markdown",
   "metadata": {},
   "source": [
    "Divisons les réponses de la première question qui sont du type *<span style=\"color: LightPink;\">nb - un secteur</span>*, et ne récupérons que la première partie, i.e. la valeur numérique *<span style=\"color: LightPink;\">nb</span>*.\n",
    "\n",
    "On affichera finalement le data frame."
   ]
  },
  {
   "cell_type": "code",
   "execution_count": 6,
   "metadata": {},
   "outputs": [
    {
     "data": {
      "text/html": [
       "<div>\n",
       "<style scoped>\n",
       "    .dataframe tbody tr th:only-of-type {\n",
       "        vertical-align: middle;\n",
       "    }\n",
       "\n",
       "    .dataframe tbody tr th {\n",
       "        vertical-align: top;\n",
       "    }\n",
       "\n",
       "    .dataframe thead th {\n",
       "        text-align: right;\n",
       "    }\n",
       "</style>\n",
       "<table border=\"1\" class=\"dataframe\">\n",
       "  <thead>\n",
       "    <tr style=\"text-align: right;\">\n",
       "      <th></th>\n",
       "      <th>Q1</th>\n",
       "      <th>Q2</th>\n",
       "      <th>Q3</th>\n",
       "      <th>Q4</th>\n",
       "      <th>Q5</th>\n",
       "      <th>Q6</th>\n",
       "      <th>Q7</th>\n",
       "      <th>Q8</th>\n",
       "      <th>Q9</th>\n",
       "      <th>Q10</th>\n",
       "      <th>Q11</th>\n",
       "      <th>Q12</th>\n",
       "      <th>Q13</th>\n",
       "      <th>Q14</th>\n",
       "      <th>Q15</th>\n",
       "      <th>Q16</th>\n",
       "      <th>Total</th>\n",
       "    </tr>\n",
       "  </thead>\n",
       "  <tbody>\n",
       "    <tr>\n",
       "      <th>0</th>\n",
       "      <td>13</td>\n",
       "      <td>9</td>\n",
       "      <td>2</td>\n",
       "      <td>0</td>\n",
       "      <td>0</td>\n",
       "      <td>2</td>\n",
       "      <td>7</td>\n",
       "      <td>3</td>\n",
       "      <td>0</td>\n",
       "      <td>0</td>\n",
       "      <td>0</td>\n",
       "      <td>0</td>\n",
       "      <td>0</td>\n",
       "      <td>1</td>\n",
       "      <td>0</td>\n",
       "      <td>0</td>\n",
       "      <td>24</td>\n",
       "    </tr>\n",
       "    <tr>\n",
       "      <th>1</th>\n",
       "      <td>8</td>\n",
       "      <td>0</td>\n",
       "      <td>0</td>\n",
       "      <td>0</td>\n",
       "      <td>1</td>\n",
       "      <td>0</td>\n",
       "      <td>0</td>\n",
       "      <td>0</td>\n",
       "      <td>0</td>\n",
       "      <td>0</td>\n",
       "      <td>1</td>\n",
       "      <td>1</td>\n",
       "      <td>0</td>\n",
       "      <td>0</td>\n",
       "      <td>0</td>\n",
       "      <td>1</td>\n",
       "      <td>4</td>\n",
       "    </tr>\n",
       "    <tr>\n",
       "      <th>2</th>\n",
       "      <td>13</td>\n",
       "      <td>9</td>\n",
       "      <td>2</td>\n",
       "      <td>0</td>\n",
       "      <td>0</td>\n",
       "      <td>2</td>\n",
       "      <td>7</td>\n",
       "      <td>3</td>\n",
       "      <td>0</td>\n",
       "      <td>0</td>\n",
       "      <td>1</td>\n",
       "      <td>0</td>\n",
       "      <td>1</td>\n",
       "      <td>1</td>\n",
       "      <td>0</td>\n",
       "      <td>0</td>\n",
       "      <td>26</td>\n",
       "    </tr>\n",
       "    <tr>\n",
       "      <th>3</th>\n",
       "      <td>13</td>\n",
       "      <td>9</td>\n",
       "      <td>0</td>\n",
       "      <td>0</td>\n",
       "      <td>0</td>\n",
       "      <td>2</td>\n",
       "      <td>7</td>\n",
       "      <td>3</td>\n",
       "      <td>0</td>\n",
       "      <td>0</td>\n",
       "      <td>0</td>\n",
       "      <td>0</td>\n",
       "      <td>0</td>\n",
       "      <td>1</td>\n",
       "      <td>0</td>\n",
       "      <td>1</td>\n",
       "      <td>23</td>\n",
       "    </tr>\n",
       "    <tr>\n",
       "      <th>4</th>\n",
       "      <td>6</td>\n",
       "      <td>9</td>\n",
       "      <td>4</td>\n",
       "      <td>0</td>\n",
       "      <td>1</td>\n",
       "      <td>2</td>\n",
       "      <td>7</td>\n",
       "      <td>3</td>\n",
       "      <td>0</td>\n",
       "      <td>4</td>\n",
       "      <td>0</td>\n",
       "      <td>0</td>\n",
       "      <td>0</td>\n",
       "      <td>1</td>\n",
       "      <td>0</td>\n",
       "      <td>0</td>\n",
       "      <td>31</td>\n",
       "    </tr>\n",
       "    <tr>\n",
       "      <th>...</th>\n",
       "      <td>...</td>\n",
       "      <td>...</td>\n",
       "      <td>...</td>\n",
       "      <td>...</td>\n",
       "      <td>...</td>\n",
       "      <td>...</td>\n",
       "      <td>...</td>\n",
       "      <td>...</td>\n",
       "      <td>...</td>\n",
       "      <td>...</td>\n",
       "      <td>...</td>\n",
       "      <td>...</td>\n",
       "      <td>...</td>\n",
       "      <td>...</td>\n",
       "      <td>...</td>\n",
       "      <td>...</td>\n",
       "      <td>...</td>\n",
       "    </tr>\n",
       "    <tr>\n",
       "      <th>58</th>\n",
       "      <td>6</td>\n",
       "      <td>4</td>\n",
       "      <td>2</td>\n",
       "      <td>0</td>\n",
       "      <td>1</td>\n",
       "      <td>2</td>\n",
       "      <td>0</td>\n",
       "      <td>3</td>\n",
       "      <td>1</td>\n",
       "      <td>4</td>\n",
       "      <td>1</td>\n",
       "      <td>1</td>\n",
       "      <td>0</td>\n",
       "      <td>1</td>\n",
       "      <td>0</td>\n",
       "      <td>0</td>\n",
       "      <td>20</td>\n",
       "    </tr>\n",
       "    <tr>\n",
       "      <th>59</th>\n",
       "      <td>13</td>\n",
       "      <td>0</td>\n",
       "      <td>2</td>\n",
       "      <td>0</td>\n",
       "      <td>0</td>\n",
       "      <td>2</td>\n",
       "      <td>7</td>\n",
       "      <td>3</td>\n",
       "      <td>0</td>\n",
       "      <td>0</td>\n",
       "      <td>0</td>\n",
       "      <td>0</td>\n",
       "      <td>0</td>\n",
       "      <td>1</td>\n",
       "      <td>0</td>\n",
       "      <td>0</td>\n",
       "      <td>15</td>\n",
       "    </tr>\n",
       "    <tr>\n",
       "      <th>60</th>\n",
       "      <td>10</td>\n",
       "      <td>4</td>\n",
       "      <td>0</td>\n",
       "      <td>0</td>\n",
       "      <td>1</td>\n",
       "      <td>0</td>\n",
       "      <td>0</td>\n",
       "      <td>0</td>\n",
       "      <td>1</td>\n",
       "      <td>0</td>\n",
       "      <td>0</td>\n",
       "      <td>0</td>\n",
       "      <td>0</td>\n",
       "      <td>0</td>\n",
       "      <td>1</td>\n",
       "      <td>1</td>\n",
       "      <td>8</td>\n",
       "    </tr>\n",
       "    <tr>\n",
       "      <th>61</th>\n",
       "      <td>10</td>\n",
       "      <td>0</td>\n",
       "      <td>0</td>\n",
       "      <td>1</td>\n",
       "      <td>1</td>\n",
       "      <td>0</td>\n",
       "      <td>0</td>\n",
       "      <td>0</td>\n",
       "      <td>0</td>\n",
       "      <td>0</td>\n",
       "      <td>0</td>\n",
       "      <td>0</td>\n",
       "      <td>0</td>\n",
       "      <td>0</td>\n",
       "      <td>0</td>\n",
       "      <td>1</td>\n",
       "      <td>3</td>\n",
       "    </tr>\n",
       "    <tr>\n",
       "      <th>62</th>\n",
       "      <td>2</td>\n",
       "      <td>4</td>\n",
       "      <td>2</td>\n",
       "      <td>3</td>\n",
       "      <td>1</td>\n",
       "      <td>2</td>\n",
       "      <td>0</td>\n",
       "      <td>3</td>\n",
       "      <td>0</td>\n",
       "      <td>4</td>\n",
       "      <td>0</td>\n",
       "      <td>1</td>\n",
       "      <td>1</td>\n",
       "      <td>1</td>\n",
       "      <td>0</td>\n",
       "      <td>0</td>\n",
       "      <td>22</td>\n",
       "    </tr>\n",
       "  </tbody>\n",
       "</table>\n",
       "<p>63 rows × 17 columns</p>\n",
       "</div>"
      ],
      "text/plain": [
       "    Q1  Q2  Q3  Q4  Q5  Q6  Q7  Q8  Q9  Q10  Q11  Q12  Q13  Q14  Q15  Q16  \\\n",
       "0   13   9   2   0   0   2   7   3   0    0    0    0    0    1    0    0   \n",
       "1    8   0   0   0   1   0   0   0   0    0    1    1    0    0    0    1   \n",
       "2   13   9   2   0   0   2   7   3   0    0    1    0    1    1    0    0   \n",
       "3   13   9   0   0   0   2   7   3   0    0    0    0    0    1    0    1   \n",
       "4    6   9   4   0   1   2   7   3   0    4    0    0    0    1    0    0   \n",
       "..  ..  ..  ..  ..  ..  ..  ..  ..  ..  ...  ...  ...  ...  ...  ...  ...   \n",
       "58   6   4   2   0   1   2   0   3   1    4    1    1    0    1    0    0   \n",
       "59  13   0   2   0   0   2   7   3   0    0    0    0    0    1    0    0   \n",
       "60  10   4   0   0   1   0   0   0   1    0    0    0    0    0    1    1   \n",
       "61  10   0   0   1   1   0   0   0   0    0    0    0    0    0    0    1   \n",
       "62   2   4   2   3   1   2   0   3   0    4    0    1    1    1    0    0   \n",
       "\n",
       "    Total  \n",
       "0      24  \n",
       "1       4  \n",
       "2      26  \n",
       "3      23  \n",
       "4      31  \n",
       "..    ...  \n",
       "58     20  \n",
       "59     15  \n",
       "60      8  \n",
       "61      3  \n",
       "62     22  \n",
       "\n",
       "[63 rows x 17 columns]"
      ]
     },
     "execution_count": 6,
     "metadata": {},
     "output_type": "execute_result"
    }
   ],
   "source": [
    "data_frame['Q1'] = data_frame['Q1'].str.split(' - ').str[0].astype(int)\n",
    "\n",
    "data_frame"
   ]
  },
  {
   "cell_type": "markdown",
   "metadata": {},
   "source": [
    "Convertissons maintenant la valeur totale en une valeur numérique permettant de représenter le risque. Nous aurons ainsi : \n",
    "<ul>\n",
    "    <li>Low : 0 - représentera les totaux compris entre 0 et 10,</li>\n",
    "    <li>Medium : 1 - représentera les totaux compris entre 11 et 18,</li>\n",
    "    <li>High : 2 - représentera les totaux compris entre 19 et 24,</li>\n",
    "    <li>Critical : 3 - représentera les totaux compris entre 25 et 52.</li>\n",
    "</ul>\n",
    "\n",
    "Notons que :\n",
    "\n",
    "**intervals** représente les intervalles pour lesquelles les totaux doivents correspondre selmon le risque \n",
    "\n",
    "**representation** représente l'affiliation du niveau de risque à une valeur numérique"
   ]
  },
  {
   "cell_type": "code",
   "execution_count": 7,
   "metadata": {},
   "outputs": [
    {
     "data": {
      "text/html": [
       "<div>\n",
       "<style scoped>\n",
       "    .dataframe tbody tr th:only-of-type {\n",
       "        vertical-align: middle;\n",
       "    }\n",
       "\n",
       "    .dataframe tbody tr th {\n",
       "        vertical-align: top;\n",
       "    }\n",
       "\n",
       "    .dataframe thead th {\n",
       "        text-align: right;\n",
       "    }\n",
       "</style>\n",
       "<table border=\"1\" class=\"dataframe\">\n",
       "  <thead>\n",
       "    <tr style=\"text-align: right;\">\n",
       "      <th></th>\n",
       "      <th>Q1</th>\n",
       "      <th>Q2</th>\n",
       "      <th>Q3</th>\n",
       "      <th>Q4</th>\n",
       "      <th>Q5</th>\n",
       "      <th>Q6</th>\n",
       "      <th>Q7</th>\n",
       "      <th>Q8</th>\n",
       "      <th>Q9</th>\n",
       "      <th>Q10</th>\n",
       "      <th>Q11</th>\n",
       "      <th>Q12</th>\n",
       "      <th>Q13</th>\n",
       "      <th>Q14</th>\n",
       "      <th>Q15</th>\n",
       "      <th>Q16</th>\n",
       "      <th>Total</th>\n",
       "    </tr>\n",
       "  </thead>\n",
       "  <tbody>\n",
       "    <tr>\n",
       "      <th>0</th>\n",
       "      <td>13</td>\n",
       "      <td>9</td>\n",
       "      <td>2</td>\n",
       "      <td>0</td>\n",
       "      <td>0</td>\n",
       "      <td>2</td>\n",
       "      <td>7</td>\n",
       "      <td>3</td>\n",
       "      <td>0</td>\n",
       "      <td>0</td>\n",
       "      <td>0</td>\n",
       "      <td>0</td>\n",
       "      <td>0</td>\n",
       "      <td>1</td>\n",
       "      <td>0</td>\n",
       "      <td>0</td>\n",
       "      <td>2</td>\n",
       "    </tr>\n",
       "    <tr>\n",
       "      <th>1</th>\n",
       "      <td>8</td>\n",
       "      <td>0</td>\n",
       "      <td>0</td>\n",
       "      <td>0</td>\n",
       "      <td>1</td>\n",
       "      <td>0</td>\n",
       "      <td>0</td>\n",
       "      <td>0</td>\n",
       "      <td>0</td>\n",
       "      <td>0</td>\n",
       "      <td>1</td>\n",
       "      <td>1</td>\n",
       "      <td>0</td>\n",
       "      <td>0</td>\n",
       "      <td>0</td>\n",
       "      <td>1</td>\n",
       "      <td>0</td>\n",
       "    </tr>\n",
       "    <tr>\n",
       "      <th>2</th>\n",
       "      <td>13</td>\n",
       "      <td>9</td>\n",
       "      <td>2</td>\n",
       "      <td>0</td>\n",
       "      <td>0</td>\n",
       "      <td>2</td>\n",
       "      <td>7</td>\n",
       "      <td>3</td>\n",
       "      <td>0</td>\n",
       "      <td>0</td>\n",
       "      <td>1</td>\n",
       "      <td>0</td>\n",
       "      <td>1</td>\n",
       "      <td>1</td>\n",
       "      <td>0</td>\n",
       "      <td>0</td>\n",
       "      <td>3</td>\n",
       "    </tr>\n",
       "    <tr>\n",
       "      <th>3</th>\n",
       "      <td>13</td>\n",
       "      <td>9</td>\n",
       "      <td>0</td>\n",
       "      <td>0</td>\n",
       "      <td>0</td>\n",
       "      <td>2</td>\n",
       "      <td>7</td>\n",
       "      <td>3</td>\n",
       "      <td>0</td>\n",
       "      <td>0</td>\n",
       "      <td>0</td>\n",
       "      <td>0</td>\n",
       "      <td>0</td>\n",
       "      <td>1</td>\n",
       "      <td>0</td>\n",
       "      <td>1</td>\n",
       "      <td>2</td>\n",
       "    </tr>\n",
       "    <tr>\n",
       "      <th>4</th>\n",
       "      <td>6</td>\n",
       "      <td>9</td>\n",
       "      <td>4</td>\n",
       "      <td>0</td>\n",
       "      <td>1</td>\n",
       "      <td>2</td>\n",
       "      <td>7</td>\n",
       "      <td>3</td>\n",
       "      <td>0</td>\n",
       "      <td>4</td>\n",
       "      <td>0</td>\n",
       "      <td>0</td>\n",
       "      <td>0</td>\n",
       "      <td>1</td>\n",
       "      <td>0</td>\n",
       "      <td>0</td>\n",
       "      <td>3</td>\n",
       "    </tr>\n",
       "    <tr>\n",
       "      <th>...</th>\n",
       "      <td>...</td>\n",
       "      <td>...</td>\n",
       "      <td>...</td>\n",
       "      <td>...</td>\n",
       "      <td>...</td>\n",
       "      <td>...</td>\n",
       "      <td>...</td>\n",
       "      <td>...</td>\n",
       "      <td>...</td>\n",
       "      <td>...</td>\n",
       "      <td>...</td>\n",
       "      <td>...</td>\n",
       "      <td>...</td>\n",
       "      <td>...</td>\n",
       "      <td>...</td>\n",
       "      <td>...</td>\n",
       "      <td>...</td>\n",
       "    </tr>\n",
       "    <tr>\n",
       "      <th>58</th>\n",
       "      <td>6</td>\n",
       "      <td>4</td>\n",
       "      <td>2</td>\n",
       "      <td>0</td>\n",
       "      <td>1</td>\n",
       "      <td>2</td>\n",
       "      <td>0</td>\n",
       "      <td>3</td>\n",
       "      <td>1</td>\n",
       "      <td>4</td>\n",
       "      <td>1</td>\n",
       "      <td>1</td>\n",
       "      <td>0</td>\n",
       "      <td>1</td>\n",
       "      <td>0</td>\n",
       "      <td>0</td>\n",
       "      <td>2</td>\n",
       "    </tr>\n",
       "    <tr>\n",
       "      <th>59</th>\n",
       "      <td>13</td>\n",
       "      <td>0</td>\n",
       "      <td>2</td>\n",
       "      <td>0</td>\n",
       "      <td>0</td>\n",
       "      <td>2</td>\n",
       "      <td>7</td>\n",
       "      <td>3</td>\n",
       "      <td>0</td>\n",
       "      <td>0</td>\n",
       "      <td>0</td>\n",
       "      <td>0</td>\n",
       "      <td>0</td>\n",
       "      <td>1</td>\n",
       "      <td>0</td>\n",
       "      <td>0</td>\n",
       "      <td>1</td>\n",
       "    </tr>\n",
       "    <tr>\n",
       "      <th>60</th>\n",
       "      <td>10</td>\n",
       "      <td>4</td>\n",
       "      <td>0</td>\n",
       "      <td>0</td>\n",
       "      <td>1</td>\n",
       "      <td>0</td>\n",
       "      <td>0</td>\n",
       "      <td>0</td>\n",
       "      <td>1</td>\n",
       "      <td>0</td>\n",
       "      <td>0</td>\n",
       "      <td>0</td>\n",
       "      <td>0</td>\n",
       "      <td>0</td>\n",
       "      <td>1</td>\n",
       "      <td>1</td>\n",
       "      <td>0</td>\n",
       "    </tr>\n",
       "    <tr>\n",
       "      <th>61</th>\n",
       "      <td>10</td>\n",
       "      <td>0</td>\n",
       "      <td>0</td>\n",
       "      <td>1</td>\n",
       "      <td>1</td>\n",
       "      <td>0</td>\n",
       "      <td>0</td>\n",
       "      <td>0</td>\n",
       "      <td>0</td>\n",
       "      <td>0</td>\n",
       "      <td>0</td>\n",
       "      <td>0</td>\n",
       "      <td>0</td>\n",
       "      <td>0</td>\n",
       "      <td>0</td>\n",
       "      <td>1</td>\n",
       "      <td>0</td>\n",
       "    </tr>\n",
       "    <tr>\n",
       "      <th>62</th>\n",
       "      <td>2</td>\n",
       "      <td>4</td>\n",
       "      <td>2</td>\n",
       "      <td>3</td>\n",
       "      <td>1</td>\n",
       "      <td>2</td>\n",
       "      <td>0</td>\n",
       "      <td>3</td>\n",
       "      <td>0</td>\n",
       "      <td>4</td>\n",
       "      <td>0</td>\n",
       "      <td>1</td>\n",
       "      <td>1</td>\n",
       "      <td>1</td>\n",
       "      <td>0</td>\n",
       "      <td>0</td>\n",
       "      <td>2</td>\n",
       "    </tr>\n",
       "  </tbody>\n",
       "</table>\n",
       "<p>63 rows × 17 columns</p>\n",
       "</div>"
      ],
      "text/plain": [
       "    Q1  Q2  Q3  Q4  Q5  Q6  Q7  Q8  Q9  Q10  Q11  Q12  Q13  Q14  Q15  Q16  \\\n",
       "0   13   9   2   0   0   2   7   3   0    0    0    0    0    1    0    0   \n",
       "1    8   0   0   0   1   0   0   0   0    0    1    1    0    0    0    1   \n",
       "2   13   9   2   0   0   2   7   3   0    0    1    0    1    1    0    0   \n",
       "3   13   9   0   0   0   2   7   3   0    0    0    0    0    1    0    1   \n",
       "4    6   9   4   0   1   2   7   3   0    4    0    0    0    1    0    0   \n",
       "..  ..  ..  ..  ..  ..  ..  ..  ..  ..  ...  ...  ...  ...  ...  ...  ...   \n",
       "58   6   4   2   0   1   2   0   3   1    4    1    1    0    1    0    0   \n",
       "59  13   0   2   0   0   2   7   3   0    0    0    0    0    1    0    0   \n",
       "60  10   4   0   0   1   0   0   0   1    0    0    0    0    0    1    1   \n",
       "61  10   0   0   1   1   0   0   0   0    0    0    0    0    0    0    1   \n",
       "62   2   4   2   3   1   2   0   3   0    4    0    1    1    1    0    0   \n",
       "\n",
       "    Total  \n",
       "0       2  \n",
       "1       0  \n",
       "2       3  \n",
       "3       2  \n",
       "4       3  \n",
       "..    ...  \n",
       "58      2  \n",
       "59      1  \n",
       "60      0  \n",
       "61      0  \n",
       "62      2  \n",
       "\n",
       "[63 rows x 17 columns]"
      ]
     },
     "execution_count": 7,
     "metadata": {},
     "output_type": "execute_result"
    }
   ],
   "source": [
    "intervals = [0, 10, 18, 24, 52]\n",
    "representation = [0, 1, 2, 3]\n",
    "data_frame['Total'] = pandas.cut(data_frame['Total'], bins = intervals, labels = representation)\n",
    "\n",
    "data_frame['Total'] = data_frame['Total'].astype(int)\n",
    "\n",
    "data_frame"
   ]
  },
  {
   "cell_type": "markdown",
   "metadata": {},
   "source": [
    "Assurons nous qu'aucune ligne n'est nulle."
   ]
  },
  {
   "cell_type": "code",
   "execution_count": 8,
   "metadata": {},
   "outputs": [
    {
     "data": {
      "text/plain": [
       "Q1       0\n",
       "Q2       0\n",
       "Q3       0\n",
       "Q4       0\n",
       "Q5       0\n",
       "Q6       0\n",
       "Q7       0\n",
       "Q8       0\n",
       "Q9       0\n",
       "Q10      0\n",
       "Q11      0\n",
       "Q12      0\n",
       "Q13      0\n",
       "Q14      0\n",
       "Q15      0\n",
       "Q16      0\n",
       "Total    0\n",
       "dtype: int64"
      ]
     },
     "execution_count": 8,
     "metadata": {},
     "output_type": "execute_result"
    }
   ],
   "source": [
    "data_frame.isnull().sum()"
   ]
  },
  {
   "cell_type": "markdown",
   "metadata": {},
   "source": [
    "## Matrice de corrélation"
   ]
  },
  {
   "cell_type": "markdown",
   "metadata": {},
   "source": [
    "La matrice de corrélation est un outil en probabilité permettant de mesurer le degré de relation linéaire entre chaque paire de variable.\n",
    "\n",
    "Introduisons deux notions : les variables expliquées et les variables explicatives. \n",
    "\n",
    "Les variables expliquées représenteront dans notre cas la colonne Total, i.e. le risque finalement obtenu lors du formulaire. \n",
    "\n",
    "Les variables explicatives représenteront l'ensembles des colonnes $Qi$ pour $i \\in \\{ 1,...,16 \\}$.\n",
    "\n",
    "\n",
    "Ainsi, une partie de l'intérprétation de la matrice de corrélation se fera comme suit :\n",
    "\n",
    "Au plus le coefficien de la matrice obtenu pour une variable expliquée est proche de zéro, au moins la question a d'importance dans le nombre de points obtenu.\n",
    "\n",
    "Au plus le coefficien de la matrice obtenu pour une variable expliquée est proche de 1, au plus il y a une forte corrélation entre la variable expliquée et la variable explicative correspondante. \n",
    "\n",
    "Si les coefficients de la matrice ne sont pas important entre les variables explicatives, alors il n-y aura pas une grosse corrélation entre elles, et donc on aura très peu de redondance, donc on pourra utiliser toutes nos variables."
   ]
  },
  {
   "cell_type": "code",
   "execution_count": 9,
   "metadata": {},
   "outputs": [
    {
     "data": {
      "text/plain": [
       "<AxesSubplot:>"
      ]
     },
     "execution_count": 9,
     "metadata": {},
     "output_type": "execute_result"
    },
    {
     "data": {
      "image/png": "[encoded data removed]",
      "text/plain": [
       "<Figure size 1080x1080 with 2 Axes>"
      ]
     },
     "metadata": {
      "needs_background": "light"
     },
     "output_type": "display_data"
    }
   ],
   "source": [
    "fig = matplotlib.pyplot.figure(figsize = (15,15))\n",
    "seaborn.heatmap(data_frame.corr(), annot = True)"
   ]
  },
  {
   "cell_type": "markdown",
   "metadata": {},
   "source": [
    "Nous contatons ici, que la matrice a par exemple pu remarquer que la question 2 avait un fort impact sur le niveau de risque finalement obtenu."
   ]
  },
  {
   "cell_type": "markdown",
   "metadata": {},
   "source": [
    "# Machine Learning"
   ]
  },
  {
   "cell_type": "markdown",
   "metadata": {},
   "source": [
    "Introduisons deux variables, notées *predicted_column* et *training_columns*, représentant respectivement la colonne total, et l'ensemble des questions. \n",
    "\n",
    "C'est ainsi, que nous retirerons la colonne Total du data frame, et que nous affecterons à notre variable *predicted_column*. Nous affecterons alors le data frame à la variable *training_columns* sans la colonne Total"
   ]
  },
  {
   "cell_type": "code",
   "execution_count": 10,
   "metadata": {},
   "outputs": [],
   "source": [
    "training_columns = data_frame.drop(columns = [\"Total\"])\n",
    "predicted_column = data_frame['Total']"
   ]
  },
  {
   "cell_type": "markdown",
   "metadata": {},
   "source": [
    "Pour l'ensemble des modèles j'ai décidé de suivre le principe du 80 - 20 plutôt que le 60 - 40 proposé dans le document envoyé."
   ]
  },
  {
   "cell_type": "markdown",
   "metadata": {},
   "source": [
    "Séparons et générons nos différents ensembles d'entrainements et ensembles de tests.\n",
    "\n",
    "À noter que le *random_state* permet de controler la part aléatoire appliquée aux données avant de pouvoir séparer et générer nos ensemble d'entrainement et de test. \n",
    "\n",
    "**Notation.** x représente l'axe des abscisses, donc les inputs, et y représente l'axe des ordonnées donc les outputs. De manière informelle, x est le data frame contenant l'ensemble de questions tandis que y est la colonne des niveaux de risques.\n",
    "\n",
    "<ul>\n",
    "    <li>La variable x_train représente la variable input d'entrainement, i.e. les questions qui serviront d'entrainement aux modèles.</li>\n",
    "    <li>La variable y_train représente la variable output d'entrainement, i.e. les totaux qui serviront de confrimation aux modèles et associés à x_train.</li>\n",
    "    <li>La variable x_test représente la variable input de test, i.e. les questions qui serviront de test aux modèles.</li>\n",
    "    <li>La variable x_train représente la variable output de test, i.e. les totaux qui serviront de test aux modèles.</li>\n",
    "</ul>\n",
    "\n",
    "Pluis précisément, les variables de test seront les ensemble sur lesquels on testera les entrainements fait par nos modèles.\n"
   ]
  },
  {
   "cell_type": "code",
   "execution_count": 11,
   "metadata": {},
   "outputs": [],
   "source": [
    "x_train, x_test, y_train, y_test = train_test_split(training_columns, predicted_column, test_size = 0.2, random_state = 100)"
   ]
  },
  {
   "cell_type": "markdown",
   "metadata": {},
   "source": [
    "La prochaine étape va être de normaliser nos données, i.e. utiliser la centrée-réduite. Pour se faire, nous appellons la classe StandardScaler()."
   ]
  },
  {
   "cell_type": "code",
   "execution_count": 12,
   "metadata": {},
   "outputs": [],
   "source": [
    "standard = StandardScaler().fit(x_train)\n",
    "\n",
    "x_train_standard = standard.transform(x_train)\n",
    "x_test_standard = standard.transform(x_test)\n",
    "\n",
    "standard = StandardScaler().fit(x_train)\n",
    "\n",
    "# Notons que quand les données ne sont pas normaliser, nous obtenons de meilleur résultats\n",
    "# x_train_standard = x_train\n",
    "# x_test_standard = x_test"
   ]
  },
  {
   "cell_type": "markdown",
   "metadata": {},
   "source": [
    "## Modèle 1 - Classification naïve bayésienne"
   ]
  },
  {
   "cell_type": "markdown",
   "metadata": {},
   "source": [
    "Nous commençons avec classification naïve bayésienne, i.e. basée sur le théorème de Bayes : Soit $A,B$ deux évènements. Si $\\mathbb P(B) \\neq 0$, \n",
    "\n",
    "$$ \\mathbb P_B (A) \\,\\, = \\,\\, \\frac{\\mathbb P (A \\, \\cap \\, B)}{\\mathbb P (B)} $$"
   ]
  },
  {
   "cell_type": "markdown",
   "metadata": {},
   "source": [
    "Nous appelons dans un premier temps la classe GaussianNB( ), puis nous faisons entrer la méthode fit(), qui va nous permettre d'entraîner notre modèle à l'aide des données splitées plus haut, et représentant nos données d'entrainement."
   ]
  },
  {
   "cell_type": "code",
   "execution_count": 13,
   "metadata": {},
   "outputs": [
    {
     "data": {
      "text/html": [
       "<style>#sk-container-id-1 {color: black;background-color: white;}#sk-container-id-1 pre{padding: 0;}#sk-container-id-1 div.sk-toggleable {background-color: white;}#sk-container-id-1 label.sk-toggleable__label {cursor: pointer;display: block;width: 100%;margin-bottom: 0;padding: 0.3em;box-sizing: border-box;text-align: center;}#sk-container-id-1 label.sk-toggleable__label-arrow:before {content: \"▸\";float: left;margin-right: 0.25em;color: #696969;}#sk-container-id-1 label.sk-toggleable__label-arrow:hover:before {color: black;}#sk-container-id-1 div.sk-estimator:hover label.sk-toggleable__label-arrow:before {color: black;}#sk-container-id-1 div.sk-toggleable__content {max-height: 0;max-width: 0;overflow: hidden;text-align: left;background-color: #f0f8ff;}#sk-container-id-1 div.sk-toggleable__content pre {margin: 0.2em;color: black;border-radius: 0.25em;background-color: #f0f8ff;}#sk-container-id-1 input.sk-toggleable__control:checked~div.sk-toggleable__content {max-height: 200px;max-width: 100%;overflow: auto;}#sk-container-id-1 input.sk-toggleable__control:checked~label.sk-toggleable__label-arrow:before {content: \"▾\";}#sk-container-id-1 div.sk-estimator input.sk-toggleable__control:checked~label.sk-toggleable__label {background-color: #d4ebff;}#sk-container-id-1 div.sk-label input.sk-toggleable__control:checked~label.sk-toggleable__label {background-color: #d4ebff;}#sk-container-id-1 input.sk-hidden--visually {border: 0;clip: rect(1px 1px 1px 1px);clip: rect(1px, 1px, 1px, 1px);height: 1px;margin: -1px;overflow: hidden;padding: 0;position: absolute;width: 1px;}#sk-container-id-1 div.sk-estimator {font-family: monospace;background-color: #f0f8ff;border: 1px dotted black;border-radius: 0.25em;box-sizing: border-box;margin-bottom: 0.5em;}#sk-container-id-1 div.sk-estimator:hover {background-color: #d4ebff;}#sk-container-id-1 div.sk-parallel-item::after {content: \"\";width: 100%;border-bottom: 1px solid gray;flex-grow: 1;}#sk-container-id-1 div.sk-label:hover label.sk-toggleable__label {background-color: #d4ebff;}#sk-container-id-1 div.sk-serial::before {content: \"\";position: absolute;border-left: 1px solid gray;box-sizing: border-box;top: 0;bottom: 0;left: 50%;z-index: 0;}#sk-container-id-1 div.sk-serial {display: flex;flex-direction: column;align-items: center;background-color: white;padding-right: 0.2em;padding-left: 0.2em;position: relative;}#sk-container-id-1 div.sk-item {position: relative;z-index: 1;}#sk-container-id-1 div.sk-parallel {display: flex;align-items: stretch;justify-content: center;background-color: white;position: relative;}#sk-container-id-1 div.sk-item::before, #sk-container-id-1 div.sk-parallel-item::before {content: \"\";position: absolute;border-left: 1px solid gray;box-sizing: border-box;top: 0;bottom: 0;left: 50%;z-index: -1;}#sk-container-id-1 div.sk-parallel-item {display: flex;flex-direction: column;z-index: 1;position: relative;background-color: white;}#sk-container-id-1 div.sk-parallel-item:first-child::after {align-self: flex-end;width: 50%;}#sk-container-id-1 div.sk-parallel-item:last-child::after {align-self: flex-start;width: 50%;}#sk-container-id-1 div.sk-parallel-item:only-child::after {width: 0;}#sk-container-id-1 div.sk-dashed-wrapped {border: 1px dashed gray;margin: 0 0.4em 0.5em 0.4em;box-sizing: border-box;padding-bottom: 0.4em;background-color: white;}#sk-container-id-1 div.sk-label label {font-family: monospace;font-weight: bold;display: inline-block;line-height: 1.2em;}#sk-container-id-1 div.sk-label-container {text-align: center;}#sk-container-id-1 div.sk-container {/* jupyter's `normalize.less` sets `[hidden] { display: none; }` but bootstrap.min.css set `[hidden] { display: none !important; }` so we also need the `!important` here to be able to override the default hidden behavior on the sphinx rendered scikit-learn.org. See: https://github.com/scikit-learn/scikit-learn/issues/21755 */display: inline-block !important;position: relative;}#sk-container-id-1 div.sk-text-repr-fallback {display: none;}</style><div id=\"sk-container-id-1\" class=\"sk-top-container\"><div class=\"sk-text-repr-fallback\"><pre>GaussianNB()</pre><b>In a Jupyter environment, please rerun this cell to show the HTML representation or trust the notebook. <br />On GitHub, the HTML representation is unable to render, please try loading this page with nbviewer.org.</b></div><div class=\"sk-container\" hidden><div class=\"sk-item\"><div class=\"sk-estimator sk-toggleable\"><input class=\"sk-toggleable__control sk-hidden--visually\" id=\"sk-estimator-id-1\" type=\"checkbox\" checked><label for=\"sk-estimator-id-1\" class=\"sk-toggleable__label sk-toggleable__label-arrow\">GaussianNB</label><div class=\"sk-toggleable__content\"><pre>GaussianNB()</pre></div></div></div></div></div>"
      ],
      "text/plain": [
       "GaussianNB()"
      ]
     },
     "execution_count": 13,
     "metadata": {},
     "output_type": "execute_result"
    }
   ],
   "source": [
    "model = GaussianNB()\n",
    "model.fit(x_train, y_train)"
   ]
  },
  {
   "cell_type": "markdown",
   "metadata": {},
   "source": [
    "Nous allons maintenant tester notre modèle à l'aide de nos données test, et tenter de faire une prédiction.\n"
   ]
  },
  {
   "cell_type": "code",
   "execution_count": 14,
   "metadata": {},
   "outputs": [
    {
     "name": "stdout",
     "output_type": "stream",
     "text": [
      "Classification naïve bayésienne : 23.076923076923077\n"
     ]
    }
   ],
   "source": [
    "y_pred = model.predict(x_test) \n",
    "\n",
    "print(\"Classification naïve bayésienne :\", metrics.accuracy_score(y_test, y_pred)*100)"
   ]
  },
  {
   "cell_type": "markdown",
   "metadata": {},
   "source": [
    "### Test du modèle"
   ]
  },
  {
   "cell_type": "code",
   "execution_count": 15,
   "metadata": {},
   "outputs": [],
   "source": [
    "df_test = pandas.read_excel('../excel/question.xlsx', sheet_name = 'risk')\n",
    "\n",
    "df_test = df_test.drop(columns = [\"Unnamed: 0\"])\n",
    "df_test['Q1'] = df_test['Q1'].str.split(' - ').str[0].astype(int)\n",
    "\n",
    "intervals = [0, 10, 18, 24, 52]\n",
    "representation = [0, 1, 2, 3]\n",
    "df_test['Total'] = pandas.cut(df_test['Total'], bins = intervals, labels = representation)\n",
    "\n",
    "df_test['Total'] = df_test['Total'].astype(int)\n",
    "\n",
    "training_columns_test = df_test.drop(columns = [\"Total\"])\n",
    "predicted_column_test = df_test['Total']\n",
    "\n",
    "y_pred = model.predict(training_columns_test) \n",
    "df_test['Predictions'] = y_pred\n",
    "\n",
    "df_test.to_excel(\"Predictions_GaussianNB_2.xlsx\")"
   ]
  },
  {
   "cell_type": "markdown",
   "metadata": {},
   "source": [
    "# Modèle 2 - One-vs-the-rest"
   ]
  },
  {
   "cell_type": "markdown",
   "metadata": {},
   "source": [
    "Nous commençons par appeler la classe OneVsTheRestClassifier, puis nous passons en paramètre la classe LinearSVC."
   ]
  },
  {
   "cell_type": "markdown",
   "metadata": {},
   "source": [
    "Étant donné que l'on va passer LinearSVC en paramètre, il peut s'avérer utile de déterminer la meilleure mise en scène possible, et allons donc tester chacun des paramètres, pour en faire ressortir la meilleure configuration.\n",
    "\n",
    "Introduisons un dictionnaire permettant de faire varier les paramètres souhaités."
   ]
  },
  {
   "cell_type": "markdown",
   "metadata": {},
   "source": [
    "Notons que l'on ajoute devant chaque paramètre *<span style=\"color: LightPink;\">estimator__</span>*. Cela nous permettra de déterminer la meilleur configuration concernant la clase LinearSVC et non la clase OneVsRestClassifier."
   ]
  },
  {
   "cell_type": "code",
   "execution_count": 16,
   "metadata": {},
   "outputs": [],
   "source": [
    "parameters = {\n",
    "    'estimator__penalty' : ['l1', 'l2'],\n",
    "    'estimator__loss' : ['hinge', 'squared_hinge'],\n",
    "    'estimator__dual' : [True, False],\n",
    "    'estimator__C' : [i for i in numpy.arange(1e-5, 100, 10)],\n",
    "    'estimator__random_state' : [0],\n",
    "    'estimator__max_iter' : [i for i in range(500, 2500, 100)]\n",
    "}"
   ]
  },
  {
   "cell_type": "markdown",
   "metadata": {},
   "source": [
    "Nous allons maintenant introduire la classe GridSearchCV(), qui va nous permettre de détérminer la meilleure configuration.\n",
    "\n",
    "Nous utiliserons le paramètre *<span style=\"color: LightPink;\">cv</span>*. Il nous permettra d'éviter le sur - entraînement de  notre modèle."
   ]
  },
  {
   "cell_type": "code",
   "execution_count": 17,
   "metadata": {},
   "outputs": [],
   "source": [
    "ovr_model = GridSearchCV(\n",
    "    OneVsRestClassifier(LinearSVC()), \n",
    "    parameters,\n",
    "    cv = 5, \n",
    "    scoring = 'accuracy'\n",
    ")"
   ]
  },
  {
   "cell_type": "markdown",
   "metadata": {},
   "source": [
    "Nous appelons ensuite la méthode fit qui nous permettra d'entrainer le modèle, et faisons une prediction."
   ]
  },
  {
   "cell_type": "markdown",
   "metadata": {},
   "source": [
    "> Lorsque le code est lancé, cela peut prendre quelques temps car le programme va tester toutes les options pour en déterminer la meilleure"
   ]
  },
  {
   "cell_type": "code",
   "execution_count": 18,
   "metadata": {},
   "outputs": [
    {
     "name": "stdout",
     "output_type": "stream",
     "text": [
      "\n",
      "Meilleure configuration pour LinearSVC :\n",
      " {'estimator__C': 1e-05, 'estimator__dual': True, 'estimator__loss': 'hinge', 'estimator__max_iter': 500, 'estimator__penalty': 'l2', 'estimator__random_state': 0}\n",
      "\n",
      "Performance du modèle : 30.76923076923077\n"
     ]
    }
   ],
   "source": [
    "# On igniore les warnings générer lors de la détermination\n",
    "warnings.filterwarnings('ignore')\n",
    "\n",
    "ovr_model.fit(x_train_standard, y_train)\n",
    "\n",
    "print(\"\\nMeilleure configuration pour LinearSVC :\\n\", ovr_model.best_params_)\n",
    "\n",
    "y_pred = ovr_model.predict(x_test_standard)\n",
    "\n",
    "print(\"\\nPerformance du modèle :\", accuracy_score(y_test, y_pred) * 100)"
   ]
  },
  {
   "cell_type": "markdown",
   "metadata": {},
   "source": [
    "### Test du modèle"
   ]
  },
  {
   "cell_type": "code",
   "execution_count": 19,
   "metadata": {},
   "outputs": [],
   "source": [
    "df_test = pandas.read_excel('../excel/question.xlsx', sheet_name = 'risk')\n",
    "\n",
    "df_test = df_test.drop(columns = [\"Unnamed: 0\"])\n",
    "df_test['Q1'] = df_test['Q1'].str.split(' - ').str[0].astype(int)\n",
    "\n",
    "intervals = [0, 10, 18, 24, 52]\n",
    "representation = [0, 1, 2, 3]\n",
    "df_test['Total'] = pandas.cut(df_test['Total'], bins = intervals, labels = representation)\n",
    "\n",
    "df_test['Total'] = df_test['Total'].astype(int)\n",
    "\n",
    "training_columns_test = df_test.drop(columns = [\"Total\"])\n",
    "predicted_column_test = df_test['Total']\n",
    "\n",
    "y_pred = ovr_model.predict(training_columns_test) \n",
    "df_test['Predictions'] = y_pred\n",
    "\n",
    "df_test.to_excel(\"Predictions_OneVsRestClassifier_2.xlsx\")"
   ]
  },
  {
   "cell_type": "markdown",
   "metadata": {},
   "source": [
    "# Modèle 3 - Output-code-classifier"
   ]
  },
  {
   "cell_type": "markdown",
   "metadata": {},
   "source": [
    "Nous commençons par appeler la classe OutputCodeClassifier, puis nous passons en paramètre la classe LinearSVC."
   ]
  },
  {
   "cell_type": "markdown",
   "metadata": {},
   "source": [
    "Étant donné que l'on va passer LinearSVC en paramètre, il peut s'avérer utile de déterminer la meilleure mise en scène possible, et allons donc tester chacun des paramètres, pour en faire ressortir la meilleure configuration.\n",
    "\n",
    "Introduisons un dictionnaire permettant de faire varier les paramètres souhaités."
   ]
  },
  {
   "cell_type": "markdown",
   "metadata": {},
   "source": [
    "Notons que l'on ajoute devant chaque paramètre *<span style=\"color: LightPink;\">estimator__</span>*. Cela nous permettra de déterminer la meilleur configuration concernant la clase LinearSVC et non la clase OutputCodeClassifier."
   ]
  },
  {
   "cell_type": "code",
   "execution_count": 20,
   "metadata": {},
   "outputs": [],
   "source": [
    "parameters = {\n",
    "    'estimator__penalty' : ['l1', 'l2'],\n",
    "    'estimator__loss' : ['hinge', 'squared_hinge'],\n",
    "    'estimator__dual' : [True, False],\n",
    "    'estimator__C' : [i for i in numpy.arange(1e-5, 100, 10)],\n",
    "    'estimator__random_state' : [0],\n",
    "    'estimator__max_iter' : [i for i in range(500, 2500, 100)]\n",
    "}"
   ]
  },
  {
   "cell_type": "markdown",
   "metadata": {},
   "source": [
    "Nous allons maintenant introduire la classe GridSearchCV(), qui va nous permettre de détérminer la meilleure configuration.\n",
    "\n",
    "Nous utiliserons le paramètre *<span style=\"color: LightPink;\">cv</span>*. Il nous permettra d'éviter le sur - entraînement de  notre modèle."
   ]
  },
  {
   "cell_type": "code",
   "execution_count": 21,
   "metadata": {},
   "outputs": [],
   "source": [
    "ocd_model = GridSearchCV(\n",
    "    OutputCodeClassifier(LinearSVC()), \n",
    "    parameters,\n",
    "    cv = 5, \n",
    "    scoring = 'accuracy'\n",
    ")"
   ]
  },
  {
   "cell_type": "markdown",
   "metadata": {},
   "source": [
    "Nous appelons ensuite la méthode fit qui nous permettra d'entrainer le modèle, et faisons une prediction.\n",
    "\n",
    "> Lorsque le code est lancé, cela peut prendre quelques temps car le programme va tester toutes les options pour en déterminer la meilleure"
   ]
  },
  {
   "cell_type": "code",
   "execution_count": 22,
   "metadata": {},
   "outputs": [
    {
     "name": "stdout",
     "output_type": "stream",
     "text": [
      "\n",
      "Meilleure configuration pour LinearSVC :\n",
      " {'estimator__C': 80.00001, 'estimator__dual': False, 'estimator__loss': 'squared_hinge', 'estimator__max_iter': 1700, 'estimator__penalty': 'l1', 'estimator__random_state': 0}\n",
      "\n",
      "Performance du modèle : 38.46153846153847\n"
     ]
    }
   ],
   "source": [
    "# On igniore les warnings générer lors de la détermination\n",
    "warnings.filterwarnings('ignore')\n",
    "\n",
    "ocd_model.fit(x_train_standard, y_train)\n",
    "\n",
    "print(\"\\nMeilleure configuration pour LinearSVC :\\n\", ocd_model.best_params_)\n",
    "\n",
    "y_pred = ocd_model.predict(x_test_standard)\n",
    "\n",
    "print(\"\\nPerformance du modèle :\", accuracy_score(y_test, y_pred) * 100)"
   ]
  },
  {
   "cell_type": "markdown",
   "metadata": {},
   "source": [
    "### Test du modèle"
   ]
  },
  {
   "cell_type": "code",
   "execution_count": 23,
   "metadata": {},
   "outputs": [],
   "source": [
    "df_test = pandas.read_excel('../excel/question.xlsx', sheet_name = 'risk')\n",
    "\n",
    "df_test = df_test.drop(columns = [\"Unnamed: 0\"])\n",
    "df_test['Q1'] = df_test['Q1'].str.split(' - ').str[0].astype(int)\n",
    "\n",
    "intervals = [0, 10, 18, 24, 52]\n",
    "representation = [0, 1, 2, 3]\n",
    "df_test['Total'] = pandas.cut(df_test['Total'], bins = intervals, labels = representation)\n",
    "\n",
    "df_test['Total'] = df_test['Total'].astype(int)\n",
    "\n",
    "training_columns_test = df_test.drop(columns = [\"Total\"])\n",
    "predicted_column_test = df_test['Total']\n",
    "\n",
    "y_pred = ocd_model.predict(training_columns_test) \n",
    "df_test['Predictions'] = y_pred\n",
    "\n",
    "df_test.to_excel(\"Predictions_OutputCodeClassifier_2.xlsx\")"
   ]
  },
  {
   "cell_type": "markdown",
   "metadata": {},
   "source": [
    "# Modèle 4 - Regression logistic"
   ]
  },
  {
   "cell_type": "markdown",
   "metadata": {},
   "source": [
    "Le modèle de regression logistique permet d'associer à un verteur de variables aléatoires $ (X_1,\\ldots ,X_k)$, une variable une variable aléatoire binomiale, notée $Y$. "
   ]
  },
  {
   "cell_type": "markdown",
   "metadata": {},
   "source": [
    "Nous allons appeler la classe LogisticRegression(). Cette classe prend différent paramètre, et peut améliorer le résultat selon ce qui lui est défini, il peut s'avérer utile de déterminer la meilleure mise en scène possible, et nous allons donc tester chacun des paramètres, pour en faire ressortir la meilleure configuration.\n",
    "\n",
    "Introduisons un dictionnaire permettant de faire varier les paramètres souhaités."
   ]
  },
  {
   "cell_type": "code",
   "execution_count": 24,
   "metadata": {},
   "outputs": [],
   "source": [
    "parameters = {\n",
    "    'penalty' : ['l1', 'l2'],\n",
    "    'dual' : [True, False],\n",
    "    'C' : [i for i in numpy.arange(1e-5, 100, 10)],\n",
    "    'fit_intercept' : [True, False],\n",
    "    'random_state' : [0],\n",
    "    'max_iter' : [i for i in range(500, 2000, 100)]\n",
    "}"
   ]
  },
  {
   "cell_type": "markdown",
   "metadata": {},
   "source": [
    "Nous allons maintenant introduire la classe GridSearchCV(), qui va nous permettre de détérminer la meilleure configuration.\n",
    "\n",
    "Nous utiliserons le paramètre *<span style=\"color: LightPink;\">cv</span>*. Il nous permettra d'éviter le sur - entraînement de  notre modèle."
   ]
  },
  {
   "cell_type": "code",
   "execution_count": 25,
   "metadata": {},
   "outputs": [],
   "source": [
    "lr_model = GridSearchCV(\n",
    "    LogisticRegression(), \n",
    "    parameters,\n",
    "    cv = 5, \n",
    "    scoring = 'accuracy'\n",
    ")"
   ]
  },
  {
   "cell_type": "markdown",
   "metadata": {},
   "source": [
    "Nous appelons ensuite la méthode fit qui nous permettra d'entrainer le modèle, et faisons une prediction.\n",
    "\n",
    "> Lorsque le code est lancé, cela peut prendre quelques temps car le programme va tester toutes les options pour en déterminer la meilleure"
   ]
  },
  {
   "cell_type": "code",
   "execution_count": 26,
   "metadata": {},
   "outputs": [
    {
     "name": "stdout",
     "output_type": "stream",
     "text": [
      "\n",
      "Meilleure configuration pour LinearSVC :\n",
      " {'C': 80.00001, 'dual': False, 'fit_intercept': True, 'max_iter': 500, 'penalty': 'l2', 'random_state': 0}\n",
      "\n",
      "Performance du modèle : 46.15384615384615\n"
     ]
    }
   ],
   "source": [
    "# On igniore les warnings générer lors de la détermination\n",
    "warnings.filterwarnings('ignore')\n",
    "\n",
    "lr_model.fit(x_train_standard, y_train)\n",
    "\n",
    "print(\"\\nMeilleure configuration pour LinearSVC :\\n\", lr_model.best_params_)\n",
    "\n",
    "y_pred = lr_model.predict(x_test_standard)\n",
    "\n",
    "print(\"\\nPerformance du modèle :\", accuracy_score(y_test, y_pred) * 100)"
   ]
  },
  {
   "cell_type": "markdown",
   "metadata": {},
   "source": [
    "### Test du modèle "
   ]
  },
  {
   "cell_type": "code",
   "execution_count": 27,
   "metadata": {},
   "outputs": [],
   "source": [
    "df_test = pandas.read_excel('../excel/question.xlsx', sheet_name = 'risk')\n",
    "\n",
    "df_test = df_test.drop(columns = [\"Unnamed: 0\"])\n",
    "df_test['Q1'] = df_test['Q1'].str.split(' - ').str[0].astype(int)\n",
    "\n",
    "intervals = [0, 10, 18, 24, 52]\n",
    "representation = [0, 1, 2, 3]\n",
    "df_test['Total'] = pandas.cut(df_test['Total'], bins = intervals, labels = representation)\n",
    "\n",
    "df_test['Total'] = df_test['Total'].astype(int)\n",
    "\n",
    "training_columns_test = df_test.drop(columns = [\"Total\"])\n",
    "predicted_column_test = df_test['Total']\n",
    "\n",
    "y_pred = lr_model.predict(training_columns_test) \n",
    "df_test['Predictions'] = y_pred\n",
    "\n",
    "df_test.to_excel(\"Predictions_LogisticRegression_2.xlsx\")"
   ]
  },
  {
   "cell_type": "markdown",
   "metadata": {},
   "source": [
    "# Modèle 5 - Dummy Classifier"
   ]
  },
  {
   "cell_type": "markdown",
   "metadata": {},
   "source": [
    "Ce modèle permet de faire des prédictions basées sur l'aléatoire en ignorant les inputs. Il nous servira de comparaison aux autres modèles, afin de voir si on est sur la bonne longueur d'onde."
   ]
  },
  {
   "cell_type": "markdown",
   "metadata": {},
   "source": [
    "Nous allons appeler la classe DummyClassifier(). Cette classe prend différente stratégie. Nous testerons donc ces stratégies."
   ]
  },
  {
   "cell_type": "markdown",
   "metadata": {},
   "source": [
    "Commençons par la stratégie *<span style=\"color: LightPink;\">most_frequent</span>*."
   ]
  },
  {
   "cell_type": "code",
   "execution_count": 28,
   "metadata": {},
   "outputs": [
    {
     "name": "stdout",
     "output_type": "stream",
     "text": [
      "\n",
      "Performance du modèle : 53.84615384615385\n"
     ]
    }
   ],
   "source": [
    "dm_model = DummyClassifier(strategy = \"most_frequent\", random_state = 0)\n",
    "\n",
    "dm_model.fit(x_train, y_train)\n",
    "\n",
    "y_pred = dm_model.predict(x_test)\n",
    "\n",
    "print(\"\\nPerformance du modèle :\", accuracy_score(y_test, y_pred) * 100)"
   ]
  },
  {
   "cell_type": "markdown",
   "metadata": {},
   "source": [
    "Utilisons la stratégie *<span style=\"color: LightPink;\">prior</span>*."
   ]
  },
  {
   "cell_type": "code",
   "execution_count": 29,
   "metadata": {},
   "outputs": [
    {
     "name": "stdout",
     "output_type": "stream",
     "text": [
      "\n",
      "Performance du modèle : 53.84615384615385\n"
     ]
    }
   ],
   "source": [
    "dm_model = DummyClassifier(strategy = \"prior\", random_state = 0)\n",
    "\n",
    "dm_model.fit(x_train, y_train)\n",
    "\n",
    "y_pred = dm_model.predict(x_test)\n",
    "\n",
    "print(\"\\nPerformance du modèle :\", accuracy_score(y_test, y_pred) * 100)"
   ]
  },
  {
   "cell_type": "markdown",
   "metadata": {},
   "source": [
    "Utilisons la stratégie *<span style=\"color: LightPink;\">stratified</span>*."
   ]
  },
  {
   "cell_type": "code",
   "execution_count": 30,
   "metadata": {},
   "outputs": [
    {
     "name": "stdout",
     "output_type": "stream",
     "text": [
      "\n",
      "Performance du modèle : 53.84615384615385\n"
     ]
    }
   ],
   "source": [
    "dm_model = DummyClassifier(strategy = \"stratified\", random_state = 0)\n",
    "\n",
    "dm_model.fit(x_train, y_train)\n",
    "\n",
    "y_pred = dm_model.predict(x_test)\n",
    "\n",
    "print(\"\\nPerformance du modèle :\", accuracy_score(y_test, y_pred) * 100)"
   ]
  },
  {
   "cell_type": "markdown",
   "metadata": {},
   "source": [
    "Utilisons la stratégie *<span style=\"color: LightPink;\">uniform</span>*."
   ]
  },
  {
   "cell_type": "code",
   "execution_count": 31,
   "metadata": {},
   "outputs": [
    {
     "name": "stdout",
     "output_type": "stream",
     "text": [
      "\n",
      "Performance du modèle : 30.76923076923077\n"
     ]
    }
   ],
   "source": [
    "dm_model = DummyClassifier(strategy = \"uniform\", random_state = 0)\n",
    "\n",
    "dm_model.fit(x_train, y_train)\n",
    "\n",
    "y_pred = dm_model.predict(x_test)\n",
    "\n",
    "print(\"\\nPerformance du modèle :\", accuracy_score(y_test, y_pred) * 100)"
   ]
  }
 ],
 "metadata": {
  "kernelspec": {
   "display_name": "Python 3.8.10 64-bit",
   "language": "python",
   "name": "python3"
  },
  "language_info": {
   "codemirror_mode": {
    "name": "ipython",
    "version": 3
   },
   "file_extension": ".py",
   "mimetype": "text/x-python",
   "name": "python",
   "nbconvert_exporter": "python",
   "pygments_lexer": "ipython3",
   "version": "3.8.10"
  },
  "orig_nbformat": 4,
  "vscode": {
   "interpreter": {
    "hash": "916dbcbb3f70747c44a77c7bcd40155683ae19c65e1c03b4aa3499c5328201f1"
   }
  }
 },
 "nbformat": 4,
 "nbformat_minor": 2
}
